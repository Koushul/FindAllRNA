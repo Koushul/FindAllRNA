{
 "cells": [
  {
   "cell_type": "code",
   "execution_count": 1,
   "metadata": {},
   "outputs": [],
   "source": [
    "%load_ext autoreload\n",
    "%autoreload 2"
   ]
  },
  {
   "cell_type": "code",
   "execution_count": 2,
   "metadata": {},
   "outputs": [],
   "source": [
    "import warnings\n",
    "warnings.simplefilter(action='ignore', category=FutureWarning)\n",
    "\n",
    "import tensorflow.keras.backend as K\n",
    "import numpy as np\n",
    "from sklearn.utils import shuffle\n",
    "import tensorflow as tf\n",
    "from tensorflow import keras\n",
    "from sklearn import preprocessing\n",
    "from sklearn.metrics import f1_score\n",
    "from numpy.random import seed"
   ]
  },
  {
   "cell_type": "code",
   "execution_count": 29,
   "metadata": {},
   "outputs": [],
   "source": [
    "from utils import DataLoader\n",
    "from encoders import KMerEncoder"
   ]
  },
  {
   "cell_type": "code",
   "execution_count": 30,
   "metadata": {},
   "outputs": [],
   "source": [
    "encoder = KMerEncoder(2, 200, 'random')"
   ]
  },
  {
   "cell_type": "code",
   "execution_count": 5,
   "metadata": {},
   "outputs": [],
   "source": [
    "dataloader = DataLoader(\n",
    "        '../datasets/x_train.fasta', \n",
    "        '../datasets/x_val.fasta', \n",
    "        '../datasets/x_test.fasta')"
   ]
  },
  {
   "cell_type": "code",
   "execution_count": 32,
   "metadata": {},
   "outputs": [],
   "source": [
    "train_seq, train_labels = dataloader.generate_training_data()\n",
    "test_seq, test_labels = dataloader.generate_testing_data()\n",
    "val_seq, val_labels = dataloader.generate_validation_data()"
   ]
  },
  {
   "cell_type": "code",
   "execution_count": 14,
   "metadata": {},
   "outputs": [],
   "source": [
    "le = preprocessing.LabelEncoder()\n",
    "le.fit(train_labels)\n",
    "num_classes = len(np.unique(train_labels))\n",
    "\n",
    "train_labels_num = le.transform(train_labels)\n",
    "val_labels_num = le.transform(val_labels)\n",
    "test_labels_num = le.transform(test_labels)\n",
    "\n",
    "train_labels_bin = keras.utils.to_categorical(train_labels_num, num_classes)\n",
    "val_labels_bin = keras.utils.to_categorical(val_labels_num, num_classes)\n",
    "test_labels_bin = keras.utils.to_categorical(test_labels_num, num_classes)"
   ]
  },
  {
   "cell_type": "code",
   "execution_count": 15,
   "metadata": {},
   "outputs": [],
   "source": [
    "y_true = np.argmax(test_labels_bin, axis=1)\n",
    "y_true = le.inverse_transform(y_true)\n",
    "labels,lcounts = np.unique(y_true,return_counts=True)"
   ]
  },
  {
   "cell_type": "code",
   "execution_count": 35,
   "metadata": {},
   "outputs": [],
   "source": [
    "train_seq = list(map(encoder.encode, train_seq))\n",
    "test_seq = list(map(encoder.encode, test_seq))\n",
    "val_seq = list(map(encoder.encode, val_seq))"
   ]
  },
  {
   "cell_type": "code",
   "execution_count": 36,
   "metadata": {},
   "outputs": [],
   "source": [
    "train_seq = keras.utils.to_categorical(train_seq)\n",
    "val_seq = keras.utils.to_categorical(val_seq)\n",
    "test_seq = keras.utils.to_categorical(test_seq)"
   ]
  },
  {
   "cell_type": "code",
   "execution_count": 38,
   "metadata": {},
   "outputs": [
    {
     "name": "stdout",
     "output_type": "stream",
     "text": [
      "Train on 105864 samples, validate on 25342 samples\n",
      "Epoch 1/15\n",
      "  1984/105864 [..............................] - ETA: 7:15 - loss: 4.5064 - acc: 0.0091"
     ]
    }
   ],
   "source": [
    "from models import buildCNNModel\n",
    "\n",
    "tf.keras.backend.clear_session()\n",
    "\n",
    "batch_size = 32\n",
    "nlayers = 3\n",
    "learning_rate = 0.001\n",
    "epochs = 15\n",
    "\n",
    "m = buildCNNModel(inshape=train_seq.shape[1:], num_classes=num_classes, nlayers=nlayers, cnndim=1)\n",
    "                \n",
    "m.compile(optimizer=keras.optimizers.Adam(lr=learning_rate),\n",
    "                loss='categorical_crossentropy',\n",
    "                metrics=['accuracy'])\n",
    "\n",
    "m.fit(train_seq, \n",
    "    train_labels_bin,\n",
    "    verbose = 1,\n",
    "    batch_size = batch_size,\n",
    "    shuffle = True,\n",
    "    epochs = epochs,\n",
    "    validation_data = (val_seq, val_labels_bin)\n",
    ")"
   ]
  },
  {
   "cell_type": "code",
   "execution_count": null,
   "metadata": {},
   "outputs": [],
   "source": [
    "pred = m.predict(test_seq, verbose=1)\n",
    "predicted = np.argmax(pred, axis=1)\n",
    "y_pred = le.inverse_transform(predicted)"
   ]
  },
  {
   "cell_type": "code",
   "execution_count": null,
   "metadata": {},
   "outputs": [],
   "source": []
  },
  {
   "cell_type": "markdown",
   "metadata": {},
   "source": []
  }
 ],
 "metadata": {
  "interpreter": {
   "hash": "1bd2048f3c03ec5914effdac379b51e0800aaa3e23f5a3e474c4119500514c74"
  },
  "kernelspec": {
   "display_name": "Python 3.7.1 ('base')",
   "language": "python",
   "name": "python3"
  },
  "language_info": {
   "codemirror_mode": {
    "name": "ipython",
    "version": 3
   },
   "file_extension": ".py",
   "mimetype": "text/x-python",
   "name": "python",
   "nbconvert_exporter": "python",
   "pygments_lexer": "ipython3",
   "version": "3.7.1"
  },
  "orig_nbformat": 4
 },
 "nbformat": 4,
 "nbformat_minor": 2
}
